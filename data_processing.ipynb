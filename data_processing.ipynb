{
 "cells": [
  {
   "cell_type": "code",
   "id": "initial_id",
   "metadata": {
    "collapsed": true,
    "ExecuteTime": {
     "end_time": "2024-12-05T12:10:34.916324Z",
     "start_time": "2024-12-05T12:10:24.007784Z"
    }
   },
   "source": [
    "import pandas as pd\n",
    "\n",
    "splits = {'train': 'data/train-00000-of-00001-c6410a8bb202ca06.parquet', 'validation': 'data/validation-00000-of-00001-d21ad392180d1f79.parquet', 'test': 'data/test-00000-of-00001-d20b0e7149fa6eeb.parquet'}\n",
    "df = pd.read_parquet(\"hf://datasets/bstee615/bigvul/\" + splits[\"train\"])"
   ],
   "outputs": [],
   "execution_count": 43
  },
  {
   "metadata": {
    "ExecuteTime": {
     "end_time": "2024-12-05T12:11:37.596953Z",
     "start_time": "2024-12-05T12:11:37.591954Z"
    }
   },
   "cell_type": "code",
   "source": [
    "# df.info\n",
    "vul_counts = df['vul'].value_counts()\n",
    "\n",
    "vul_counts\n"
   ],
   "id": "3775961f1c51099e",
   "outputs": [
    {
     "data": {
      "text/plain": [
       "vul\n",
       "0    142194\n",
       "1      8714\n",
       "Name: count, dtype: int64"
      ]
     },
     "execution_count": 46,
     "metadata": {},
     "output_type": "execute_result"
    }
   ],
   "execution_count": 46
  },
  {
   "metadata": {
    "ExecuteTime": {
     "end_time": "2024-12-05T12:12:25.903814Z",
     "start_time": "2024-12-05T12:12:25.897092Z"
    }
   },
   "cell_type": "code",
   "source": "df.describe()",
   "id": "39f99795f8c45ebe",
   "outputs": [
    {
     "data": {
      "text/plain": [
       "                 vul\n",
       "count  150908.000000\n",
       "mean        0.057744\n",
       "std         0.233259\n",
       "min         0.000000\n",
       "25%         0.000000\n",
       "50%         0.000000\n",
       "75%         0.000000\n",
       "max         1.000000"
      ],
      "text/html": [
       "<div>\n",
       "<style scoped>\n",
       "    .dataframe tbody tr th:only-of-type {\n",
       "        vertical-align: middle;\n",
       "    }\n",
       "\n",
       "    .dataframe tbody tr th {\n",
       "        vertical-align: top;\n",
       "    }\n",
       "\n",
       "    .dataframe thead th {\n",
       "        text-align: right;\n",
       "    }\n",
       "</style>\n",
       "<table border=\"1\" class=\"dataframe\">\n",
       "  <thead>\n",
       "    <tr style=\"text-align: right;\">\n",
       "      <th></th>\n",
       "      <th>vul</th>\n",
       "    </tr>\n",
       "  </thead>\n",
       "  <tbody>\n",
       "    <tr>\n",
       "      <th>count</th>\n",
       "      <td>150908.000000</td>\n",
       "    </tr>\n",
       "    <tr>\n",
       "      <th>mean</th>\n",
       "      <td>0.057744</td>\n",
       "    </tr>\n",
       "    <tr>\n",
       "      <th>std</th>\n",
       "      <td>0.233259</td>\n",
       "    </tr>\n",
       "    <tr>\n",
       "      <th>min</th>\n",
       "      <td>0.000000</td>\n",
       "    </tr>\n",
       "    <tr>\n",
       "      <th>25%</th>\n",
       "      <td>0.000000</td>\n",
       "    </tr>\n",
       "    <tr>\n",
       "      <th>50%</th>\n",
       "      <td>0.000000</td>\n",
       "    </tr>\n",
       "    <tr>\n",
       "      <th>75%</th>\n",
       "      <td>0.000000</td>\n",
       "    </tr>\n",
       "    <tr>\n",
       "      <th>max</th>\n",
       "      <td>1.000000</td>\n",
       "    </tr>\n",
       "  </tbody>\n",
       "</table>\n",
       "</div>"
      ]
     },
     "execution_count": 47,
     "metadata": {},
     "output_type": "execute_result"
    }
   ],
   "execution_count": 47
  },
  {
   "metadata": {
    "ExecuteTime": {
     "end_time": "2024-12-05T08:07:49.109112Z",
     "start_time": "2024-12-05T08:07:49.088185Z"
    }
   },
   "cell_type": "code",
   "source": [
    "df_filtered = df[df['CWE ID'].notna()]\n",
    "\n",
    "vul_counts = df_filtered['vul'].value_counts()\n",
    "\n",
    "vul_counts"
   ],
   "id": "8d77dc6693e0547",
   "outputs": [
    {
     "data": {
      "text/plain": [
       "vul\n",
       "0    114937\n",
       "1      6996\n",
       "Name: count, dtype: int64"
      ]
     },
     "execution_count": 18,
     "metadata": {},
     "output_type": "execute_result"
    }
   ],
   "execution_count": 18
  },
  {
   "metadata": {
    "ExecuteTime": {
     "end_time": "2024-12-05T10:33:13.347965Z",
     "start_time": "2024-12-05T10:33:12.658273Z"
    }
   },
   "cell_type": "code",
   "source": [
    "from sklearn.model_selection import train_test_split\n",
    "\n",
    "# 分离 vul=0 和 vul=1 的数据\n",
    "vul_0 = df_filtered[df_filtered['vul'] == 0]\n",
    "vul_1 = df_filtered[df_filtered['vul'] == 1]\n",
    "\n",
    "# 确保 vul=0 和 vul=1 的平衡，以少数类的数量为基准\n",
    "minority_count = min(len(vul_0), len(vul_1))\n",
    "vul_0_balanced = vul_0.sample(n=minority_count, random_state=42)\n",
    "vul_1_balanced = vul_1.sample(n=minority_count, random_state=42)\n",
    "\n",
    "# 合并平衡后的数据\n",
    "balanced_df = pd.concat([vul_0_balanced, vul_1_balanced]).sample(frac=1, random_state=42)  # 打乱顺序\n",
    "\n",
    "# 按 8:1:1 划分训练、验证、测试集\n",
    "train_val_df, test_df = train_test_split(balanced_df, test_size=0.1, random_state=42, stratify=balanced_df['vul'])\n",
    "train_df, val_df = train_test_split(train_val_df, test_size=0.1111, random_state=42, stratify=train_val_df['vul'])\n",
    "\n",
    "# 输出各数据集大小\n",
    "train_df.to_csv('data/train.csv', index=False)\n",
    "val_df.to_csv('data/val.csv', index=False)\n",
    "test_df.to_csv('data/test.csv', index=False)\n",
    "\n",
    "{\n",
    "    \"训练集保存路径\": \"data/train.csv\",\n",
    "    \"验证集保存路径\": \"data/val.csv\",\n",
    "    \"测试集保存路径\": \"data/test.csv\"\n",
    "}"
   ],
   "id": "8c7e8af2829ff908",
   "outputs": [
    {
     "data": {
      "text/plain": [
       "{'训练集保存路径': 'data/train.csv',\n",
       " '验证集保存路径': 'data/val.csv',\n",
       " '测试集保存路径': 'data/test.csv'}"
      ]
     },
     "execution_count": 41,
     "metadata": {},
     "output_type": "execute_result"
    }
   ],
   "execution_count": 41
  },
  {
   "metadata": {
    "ExecuteTime": {
     "end_time": "2024-12-05T06:57:35.997557Z",
     "start_time": "2024-12-05T06:57:35.638556Z"
    }
   },
   "cell_type": "code",
   "source": [
    "train_df = pd.read_csv('data/train.csv')\n",
    "val_df = pd.read_csv('data/val.csv')\n",
    "test_df = pd.read_csv('data/test.csv')"
   ],
   "id": "cd18194362deee57",
   "outputs": [],
   "execution_count": 4
  },
  {
   "metadata": {
    "ExecuteTime": {
     "end_time": "2024-12-05T06:57:51.873930Z",
     "start_time": "2024-12-05T06:57:51.863273Z"
    }
   },
   "cell_type": "code",
   "source": [
    "unique_cwe_ids = df_filtered['CWE ID'].unique()\n",
    "\n",
    "# 打印所有独特的 CWE ID\n",
    "print(f\"Unique CWE IDs ({len(unique_cwe_ids)} total):\")\n",
    "print(unique_cwe_ids)"
   ],
   "id": "abef5a746da29313",
   "outputs": [
    {
     "name": "stdout",
     "output_type": "stream",
     "text": [
      "Unique CWE IDs (90 total):\n",
      "['CWE-119' 'CWE-732' 'CWE-189' 'CWE-415' 'CWE-287' 'CWE-20' 'CWE-200'\n",
      " 'CWE-264' 'CWE-416' 'CWE-787' 'CWE-1021' 'CWE-254' 'CWE-125' 'CWE-284'\n",
      " 'CWE-617' 'CWE-388' 'CWE-79' 'CWE-476' 'CWE-190' 'CWE-399' 'CWE-94'\n",
      " 'CWE-404' 'CWE-772' 'CWE-89' 'CWE-362' 'CWE-400' 'CWE-59' 'CWE-310'\n",
      " 'CWE-22' 'CWE-835' 'CWE-269' 'CWE-134' 'CWE-93' 'CWE-674' 'CWE-191'\n",
      " 'CWE-281' 'CWE-285' 'CWE-704' 'CWE-834' 'CWE-17' 'CWE-436' 'CWE-693'\n",
      " 'CWE-19' 'CWE-369' 'CWE-354' 'CWE-311' 'CWE-611' 'CWE-120' 'CWE-16'\n",
      " 'CWE-754' 'CWE-74' 'CWE-909' 'CWE-78' 'CWE-361' 'CWE-668' 'CWE-77'\n",
      " 'CWE-494' 'CWE-346' 'CWE-295' 'CWE-290' 'CWE-601' 'CWE-862' 'CWE-358'\n",
      " 'CWE-706' 'CWE-532' 'CWE-330' 'CWE-172' 'CWE-320' 'CWE-18' 'CWE-129'\n",
      " 'CWE-918' 'CWE-255' 'CWE-682' 'CWE-502' 'CWE-770' 'CWE-347' 'CWE-352'\n",
      " 'CWE-426' 'CWE-345' 'CWE-755' 'CWE-90' 'CWE-665' 'CWE-763' 'CWE-522'\n",
      " 'CWE-824' 'CWE-664' 'CWE-327' 'CWE-769' 'CWE-252' 'CWE-209']\n"
     ]
    }
   ],
   "execution_count": 7
  },
  {
   "metadata": {
    "ExecuteTime": {
     "end_time": "2024-12-05T06:57:54.668333Z",
     "start_time": "2024-12-05T06:57:54.656973Z"
    }
   },
   "cell_type": "code",
   "source": [
    "unique_cwe_ids = set(train_df['CWE ID'].unique())\n",
    "\n",
    "# 打印所有独特的 CWE ID\n",
    "print(f\"Unique CWE IDs ({len(unique_cwe_ids)} total):\")\n",
    "print(unique_cwe_ids)\n",
    "\n",
    "all_cwe_ids = set(df_filtered['CWE ID'].unique())\n",
    "\n",
    "non_overlapping_cwe_ids = all_cwe_ids - (unique_cwe_ids)\n",
    "\n",
    "\n",
    "print(f\"Non-overlapping CWE IDs ({len(non_overlapping_cwe_ids)} total):\")\n",
    "print(non_overlapping_cwe_ids)"
   ],
   "id": "926a474910a1f197",
   "outputs": [
    {
     "name": "stdout",
     "output_type": "stream",
     "text": [
      "Unique CWE IDs (83 total):\n",
      "{'CWE-255', 'CWE-835', 'CWE-436', 'CWE-494', 'CWE-347', 'CWE-770', 'CWE-682', 'CWE-129', 'CWE-18', 'CWE-252', 'CWE-787', 'CWE-295', 'CWE-287', 'CWE-59', 'CWE-209', 'CWE-388', 'CWE-17', 'CWE-918', 'CWE-269', 'CWE-369', 'CWE-119', 'CWE-327', 'CWE-22', 'CWE-79', 'CWE-665', 'CWE-254', 'CWE-824', 'CWE-200', 'CWE-668', 'CWE-345', 'CWE-78', 'CWE-862', 'CWE-674', 'CWE-361', 'CWE-404', 'CWE-77', 'CWE-362', 'CWE-763', 'CWE-20', 'CWE-284', 'CWE-426', 'CWE-909', 'CWE-400', 'CWE-704', 'CWE-502', 'CWE-399', 'CWE-358', 'CWE-311', 'CWE-290', 'CWE-264', 'CWE-190', 'CWE-354', 'CWE-285', 'CWE-89', 'CWE-320', 'CWE-134', 'CWE-16', 'CWE-74', 'CWE-94', 'CWE-125', 'CWE-532', 'CWE-522', 'CWE-191', 'CWE-172', 'CWE-617', 'CWE-281', 'CWE-189', 'CWE-90', 'CWE-416', 'CWE-754', 'CWE-310', 'CWE-19', 'CWE-611', 'CWE-1021', 'CWE-330', 'CWE-834', 'CWE-476', 'CWE-601', 'CWE-772', 'CWE-415', 'CWE-346', 'CWE-120', 'CWE-732'}\n",
      "Non-overlapping CWE IDs (7 total):\n",
      "{'CWE-769', 'CWE-755', 'CWE-693', 'CWE-706', 'CWE-352', 'CWE-93', 'CWE-664'}\n"
     ]
    }
   ],
   "execution_count": 8
  },
  {
   "metadata": {},
   "cell_type": "markdown",
   "source": "",
   "id": "7a6e84b5dfcfcb7"
  },
  {
   "metadata": {
    "ExecuteTime": {
     "end_time": "2024-12-05T06:58:03.776964Z",
     "start_time": "2024-12-05T06:58:03.770311Z"
    }
   },
   "cell_type": "code",
   "source": [
    "vul_counts = train_df['vul'].value_counts()\n",
    "print(vul_counts)\n",
    "\n",
    "vul_counts = test_df['vul'].value_counts()\n",
    "print(vul_counts)\n",
    "\n",
    "vul_counts = val_df['vul'].value_counts()\n",
    "print(vul_counts)\n",
    "\n"
   ],
   "id": "d6af3fac9e9a4c",
   "outputs": [
    {
     "name": "stdout",
     "output_type": "stream",
     "text": [
      "vul\n",
      "1    5597\n",
      "0    5596\n",
      "Name: count, dtype: int64\n",
      "vul\n",
      "1    700\n",
      "0    700\n",
      "Name: count, dtype: int64\n",
      "vul\n",
      "0    700\n",
      "1    699\n",
      "Name: count, dtype: int64\n"
     ]
    }
   ],
   "execution_count": 10
  },
  {
   "metadata": {
    "ExecuteTime": {
     "end_time": "2024-12-04T22:28:53.911989Z",
     "start_time": "2024-12-04T22:28:53.411192Z"
    }
   },
   "cell_type": "code",
   "source": [
    "import json\n",
    "\n",
    "# Define the file path for GPT-4 fine-tuning data\n",
    "gpt4_fine_tuning_file = \"data/gpt4_fine_tuning_train.jsonl\"\n",
    "\n",
    "# Create GPT-4 fine-tuning data format (messages structure)\n",
    "with open(gpt4_fine_tuning_file, 'w') as f:\n",
    "    for _, row in train_df.iterrows():\n",
    "        # Get the prompt (vulnerability code snippet)\n",
    "        prompt = row['func_before']  # Replace with the actual column name containing code snippets\n",
    "        \n",
    "        # Construct the completion (vulnerability class and CWE information)\n",
    "        vul_label = \"vul 1\" if row['vul'] == 1 else \"vul 0\"\n",
    "        cwe = f\"CWE: {row['CWE ID']}\" if row['CWE ID'] else \"CWE: None\"\n",
    "        completion = f\"Vulnerability Class: {vul_label}\\nCWE Number: {cwe}\"\n",
    "        \n",
    "        # Format as messages for GPT-4\n",
    "        messages = [\n",
    "            {\"role\": \"system\", \"content\": \"You are an assistant that detects vulnerabilities in code and provides their CWE number. Out put 1 and CWE number if the code is vulnerable, 0 otherwise.\"},\n",
    "            {\"role\": \"user\", \"content\": prompt.strip()},\n",
    "            {\"role\": \"assistant\", \"content\": completion.strip()}\n",
    "        ]\n",
    "        \n",
    "        # Write to JSONL file\n",
    "        json.dump({\"messages\": messages}, f)\n",
    "        f.write('\\n')\n",
    "\n",
    "print(f\"GPT-4 fine-tuning data has been saved to {gpt4_fine_tuning_file}\")\n"
   ],
   "id": "2272d8e12d2dcb6c",
   "outputs": [
    {
     "name": "stdout",
     "output_type": "stream",
     "text": [
      "GPT-4 fine-tuning data has been saved to data/gpt4_fine_tuning_train.jsonl\n"
     ]
    }
   ],
   "execution_count": 34
  },
  {
   "metadata": {
    "ExecuteTime": {
     "end_time": "2024-12-04T22:28:56.273656Z",
     "start_time": "2024-12-04T22:28:56.176566Z"
    }
   },
   "cell_type": "code",
   "source": [
    "data_path = \"data/gpt4_fine_tuning_train.jsonl\"\n",
    "\n",
    "with open(data_path, 'r', encoding='utf-8') as f:\n",
    "    dataset = [json.loads(line) for line in f]\n",
    "\n",
    "print(\"Num Examples:\", len(dataset))\n",
    "print(\"First Example:\")\n",
    "for message in dataset[0]:\n",
    "    print(f\"\\t{message}: {dataset[0][message]}\")"
   ],
   "id": "8d99208a7cbc3d09",
   "outputs": [
    {
     "name": "stdout",
     "output_type": "stream",
     "text": [
      "Num Examples: 11193\n",
      "First Example:\n",
      "\tmessages: [{'role': 'system', 'content': 'You are an assistant that detects vulnerabilities in code and provides their CWE number. Out put 1 and CWE number if the code is vulnerable, 0 otherwise.'}, {'role': 'user', 'content': 'static bool arcmsr_hbaB_get_config(struct AdapterControlBlock *acb)\\n{\\n\\tstruct MessageUnit_B *reg = acb->pmuB;\\n\\tchar *acb_firm_model = acb->firm_model;\\n\\tchar *acb_firm_version = acb->firm_version;\\n\\tchar *acb_device_map = acb->device_map;\\n\\tchar __iomem *iop_firm_model;\\n\\t/*firm_model,15,60-67*/\\n\\tchar __iomem *iop_firm_version;\\n\\t/*firm_version,17,68-83*/\\n\\tchar __iomem *iop_device_map;\\n\\t/*firm_version,21,84-99*/\\n\\tint count;\\n\\n\\tiop_firm_model = (char __iomem *)(&reg->message_rwbuffer[15]);\\t/*firm_model,15,60-67*/\\n\\tiop_firm_version = (char __iomem *)(&reg->message_rwbuffer[17]);\\t/*firm_version,17,68-83*/\\n\\tiop_device_map = (char __iomem *)(&reg->message_rwbuffer[21]);\\t/*firm_version,21,84-99*/\\n\\n\\tarcmsr_wait_firmware_ready(acb);\\n\\twritel(ARCMSR_MESSAGE_START_DRIVER_MODE, reg->drv2iop_doorbell);\\n\\tif (!arcmsr_hbaB_wait_msgint_ready(acb)) {\\n\\t\\tprintk(KERN_ERR \"arcmsr%d: can\\'t set driver mode.\\\\n\", acb->host->host_no);\\n\\t\\treturn false;\\n\\t}\\n\\twritel(ARCMSR_MESSAGE_GET_CONFIG, reg->drv2iop_doorbell);\\n\\tif (!arcmsr_hbaB_wait_msgint_ready(acb)) {\\n\\t\\tprintk(KERN_NOTICE \"arcmsr%d: wait \\'get adapter firmware \\\\\\n\\t\\t\\tmiscellaneous data\\' timeout \\\\n\", acb->host->host_no);\\n\\t\\treturn false;\\n\\t}\\n\\tcount = 8;\\n\\twhile (count){\\n\\t\\t*acb_firm_model = readb(iop_firm_model);\\n\\t\\tacb_firm_model++;\\n\\t\\tiop_firm_model++;\\n\\t\\tcount--;\\n\\t}\\n\\tcount = 16;\\n\\twhile (count){\\n\\t\\t*acb_firm_version = readb(iop_firm_version);\\n\\t\\tacb_firm_version++;\\n\\t\\tiop_firm_version++;\\n\\t\\tcount--;\\n\\t}\\n\\n\\tcount = 16;\\n\\twhile(count){\\n\\t\\t*acb_device_map = readb(iop_device_map);\\n\\t\\tacb_device_map++;\\n\\t\\tiop_device_map++;\\n\\t\\tcount--;\\n\\t}\\n\\t\\n\\tpr_notice(\"Areca RAID Controller%d: Model %s, F/W %s\\\\n\",\\n\\t\\tacb->host->host_no,\\n\\t\\tacb->firm_model,\\n\\t\\tacb->firm_version);\\n\\n\\tacb->signature = readl(&reg->message_rwbuffer[0]);\\n\\t/*firm_signature,1,00-03*/\\n\\tacb->firm_request_len = readl(&reg->message_rwbuffer[1]);\\n\\t/*firm_request_len,1,04-07*/\\n\\tacb->firm_numbers_queue = readl(&reg->message_rwbuffer[2]);\\n\\t/*firm_numbers_queue,2,08-11*/\\n\\tacb->firm_sdram_size = readl(&reg->message_rwbuffer[3]);\\n\\t/*firm_sdram_size,3,12-15*/\\n\\tacb->firm_hd_channels = readl(&reg->message_rwbuffer[4]);\\n\\t/*firm_ide_channels,4,16-19*/\\n\\tacb->firm_cfg_version = readl(&reg->message_rwbuffer[25]);  /*firm_cfg_version,25,100-103*/\\n\\t/*firm_ide_channels,4,16-19*/\\n\\treturn true;\\n}'}, {'role': 'assistant', 'content': 'Vulnerability Class: vul 0\\nCWE Number: CWE: CWE-119'}]\n"
     ]
    }
   ],
   "execution_count": 35
  },
  {
   "metadata": {
    "ExecuteTime": {
     "end_time": "2024-12-04T22:41:45.466457Z",
     "start_time": "2024-12-04T22:41:45.438925Z"
    }
   },
   "cell_type": "code",
   "source": [
    "from collections import defaultdict\n",
    "\n",
    "format_errors = defaultdict(int)\n",
    "\n",
    "for ex in dataset:\n",
    "    if not isinstance(ex, dict):\n",
    "        format_errors[\"Examples not formatted as dictionaries\"] += 1\n",
    "        continue\n",
    "    \n",
    "    messages = ex.get(\"messages\", None)\n",
    "    \n",
    "    if not messages:\n",
    "        format_errors[\"Missing_msg_list\"] += 1\n",
    "        continue\n",
    "    \n",
    "    for message in messages:\n",
    "        if 'role' not in message or 'content' not in message:\n",
    "            format_errors[\"Missing_'message'_key\"] += 1\n",
    "    \n",
    "        if any(k not in ('role', 'content', 'name', 'function_call') for k in message):\n",
    "            format_errors[\"unrecognized_key\"] += 1\n",
    "        \n",
    "        if message.get('role', None) not in ('system', 'user', 'assistant', 'function'):\n",
    "            format_errors[\"unrecognized_role\"] += 1\n",
    "        \n",
    "        content = message.get('content', None)\n",
    "        function_call = message.get('function_call', None)\n",
    "        if (not content and not function_call) or not isinstance(content, str):\n",
    "            format_errors[\"missing_content\"] += 1\n",
    "        \n",
    "    if not any(message.get('role', None) == 'assistant' for message in messages):\n",
    "        format_errors[\"example_missing_assistant_msg\"] += 1"
   ],
   "id": "2474cf77b86d2eeb",
   "outputs": [],
   "execution_count": 49
  },
  {
   "metadata": {
    "ExecuteTime": {
     "end_time": "2024-12-04T22:41:46.832514Z",
     "start_time": "2024-12-04T22:41:46.828271Z"
    }
   },
   "cell_type": "code",
   "source": [
    "if format_errors:\n",
    "    print(\"Format errors:\")\n",
    "    for error, count in format_errors.items():\n",
    "        print(f\"\\t{error}: {count}\")\n",
    "else:\n",
    "    print(\"No format errors found.\")"
   ],
   "id": "3d2cb59777e28d26",
   "outputs": [
    {
     "name": "stdout",
     "output_type": "stream",
     "text": [
      "No format errors found.\n"
     ]
    }
   ],
   "execution_count": 50
  },
  {
   "metadata": {
    "ExecuteTime": {
     "end_time": "2024-12-04T23:57:11.815767Z",
     "start_time": "2024-12-04T23:57:11.756262Z"
    }
   },
   "cell_type": "code",
   "source": [
    "from sklearn.utils import resample\n",
    "\n",
    "# 选择100条数据，保持 vul=0 和 vul=1 的平衡\n",
    "num_samples_per_class = 500  # 平均分配\n",
    "\n",
    "# 分离 vul=0 和 vul=1 的数据\n",
    "vul_0_data = train_df[train_df['vul'] == 0]\n",
    "vul_1_data = train_df[train_df['vul'] == 1]\n",
    "\n",
    "# 随机采样 50 条 vul=0 和 50 条 vul=1 的数据\n",
    "vul_0_sampled = resample(vul_0_data, replace=False, n_samples=num_samples_per_class, random_state=42)\n",
    "vul_1_sampled = resample(vul_1_data, replace=False, n_samples=num_samples_per_class, random_state=42)\n",
    "\n",
    "# 合并采样后的数据并打乱顺序\n",
    "sampled_data = pd.concat([vul_0_sampled, vul_1_sampled]).sample(frac=1, random_state=42)\n",
    "\n",
    "# 保存新的小规模训练集\n",
    "sampled_data_file = \"data/sample_train_data.csv\"\n",
    "sampled_data.to_csv(sampled_data_file, index=False)\n",
    "\n",
    "print(f\"Sampled training data saved to {sampled_data_file}, total {len(sampled_data)} samples:\")\n",
    "print(sampled_data['vul'].value_counts())\n"
   ],
   "id": "b2cfb3d3cb4a8645",
   "outputs": [
    {
     "name": "stdout",
     "output_type": "stream",
     "text": [
      "Sampled training data saved to data/sample_train_data.csv, total 1000 samples:\n",
      "vul\n",
      "1    500\n",
      "0    500\n",
      "Name: count, dtype: int64\n"
     ]
    }
   ],
   "execution_count": 35
  },
  {
   "metadata": {
    "ExecuteTime": {
     "end_time": "2024-12-04T23:57:39.206980Z",
     "start_time": "2024-12-04T23:57:39.152595Z"
    }
   },
   "cell_type": "code",
   "source": [
    "import json\n",
    "\n",
    "# Define the file path for GPT-4 fine-tuning data\n",
    "gpt4_fine_tuning_file = \"data/gpt4_fine_tuning_train_sample.jsonl\"\n",
    "\n",
    "# Create GPT-4 fine-tuning data format (messages structure)\n",
    "with open(gpt4_fine_tuning_file, 'w') as f:\n",
    "    for _, row in sampled_data.iterrows():\n",
    "        # Get the prompt (vulnerability code snippet)\n",
    "        prompt = row['func_before']  # Replace with the actual column name containing code snippets\n",
    "        \n",
    "        # Construct the completion (vulnerability class and CWE information)\n",
    "        vul_label = \"vul 1\" if row['vul'] == 1 else \"vul 0\"\n",
    "        cwe = f\"CWE: {row['CWE ID']}\" if row['CWE ID'] else \"CWE: None\"\n",
    "        completion = f\"Vulnerability Class: {vul_label}\\nCWE Number: {cwe}\"\n",
    "        \n",
    "        # Format as messages for GPT-4\n",
    "        messages = [\n",
    "            {\"role\": \"system\", \"content\": \"You are an assistant that detects vulnerabilities in code and provides their CWE number. Out put 1 and CWE number if the code is vulnerable, 0 otherwise.\"},\n",
    "            {\"role\": \"user\", \"content\": prompt.strip()},\n",
    "            {\"role\": \"assistant\", \"content\": completion.strip()}\n",
    "        ]\n",
    "        \n",
    "        # Write to JSONL file\n",
    "        json.dump({\"messages\": messages}, f)\n",
    "        f.write('\\n')\n",
    "\n",
    "print(f\"GPT-4 fine-tuning data has been saved to {gpt4_fine_tuning_file}\")"
   ],
   "id": "2e6b97fbcfefcee0",
   "outputs": [
    {
     "name": "stdout",
     "output_type": "stream",
     "text": [
      "GPT-4 fine-tuning data has been saved to data/gpt4_fine_tuning_train_sample.jsonl\n"
     ]
    }
   ],
   "execution_count": 36
  },
  {
   "metadata": {},
   "cell_type": "code",
   "outputs": [],
   "execution_count": null,
   "source": "",
   "id": "8ad816c4758ab9d8"
  },
  {
   "metadata": {},
   "cell_type": "code",
   "outputs": [],
   "execution_count": null,
   "source": "",
   "id": "f79caa3959c15d06"
  },
  {
   "metadata": {
    "ExecuteTime": {
     "end_time": "2024-12-05T14:19:29.938710Z",
     "start_time": "2024-12-05T14:19:29.234487Z"
    }
   },
   "cell_type": "code",
   "source": [
    "import openai\n",
    "import os\n",
    "from dotenv import load_dotenv\n",
    "from openai import OpenAI\n",
    "\n",
    "load_dotenv()\n",
    "client = OpenAI()\n",
    "\n",
    "openai.api_key = os.getenv(\"OPENAI_API_KEY2\")\n",
    "\n",
    "gpt4_sample_fine_tuning_file = \"data/gpt4_fine_tuning_train_sample.jsonl\"\n",
    "\n",
    "if not openai.api_key:\n",
    "    raise ValueError(\"API key not found. Please set OPENAI_API_KEY in your .env file.\")\n",
    "\n",
    "fine_tuning_file = \"data/gpt4_fine_tuning_train_sample.jsonl\"  # 替换为你的 JSONL 文件路径\n",
    "\n",
    "file = client.files.create(\n",
    "    file = open(fine_tuning_file, 'rb'),\n",
    "    purpose = \"fine-tune\"\n",
    ")\n",
    "\n",
    "print(file)"
   ],
   "id": "2bc40274a6cf2a88",
   "outputs": [
    {
     "ename": "ValueError",
     "evalue": "API key not found. Please set OPENAI_API_KEY in your .env file.",
     "output_type": "error",
     "traceback": [
      "\u001B[1;31m---------------------------------------------------------------------------\u001B[0m",
      "\u001B[1;31mValueError\u001B[0m                                Traceback (most recent call last)",
      "Cell \u001B[1;32mIn[57], line 14\u001B[0m\n\u001B[0;32m     11\u001B[0m gpt4_sample_fine_tuning_file \u001B[38;5;241m=\u001B[39m \u001B[38;5;124m\"\u001B[39m\u001B[38;5;124mdata/gpt4_fine_tuning_train_sample.jsonl\u001B[39m\u001B[38;5;124m\"\u001B[39m\n\u001B[0;32m     13\u001B[0m \u001B[38;5;28;01mif\u001B[39;00m \u001B[38;5;129;01mnot\u001B[39;00m openai\u001B[38;5;241m.\u001B[39mapi_key:\n\u001B[1;32m---> 14\u001B[0m     \u001B[38;5;28;01mraise\u001B[39;00m \u001B[38;5;167;01mValueError\u001B[39;00m(\u001B[38;5;124m\"\u001B[39m\u001B[38;5;124mAPI key not found. Please set OPENAI_API_KEY in your .env file.\u001B[39m\u001B[38;5;124m\"\u001B[39m)\n\u001B[0;32m     16\u001B[0m fine_tuning_file \u001B[38;5;241m=\u001B[39m \u001B[38;5;124m\"\u001B[39m\u001B[38;5;124mdata/gpt4_fine_tuning_train_sample.jsonl\u001B[39m\u001B[38;5;124m\"\u001B[39m  \u001B[38;5;66;03m# 替换为你的 JSONL 文件路径\u001B[39;00m\n\u001B[0;32m     18\u001B[0m file \u001B[38;5;241m=\u001B[39m client\u001B[38;5;241m.\u001B[39mfiles\u001B[38;5;241m.\u001B[39mcreate(\n\u001B[0;32m     19\u001B[0m     file \u001B[38;5;241m=\u001B[39m \u001B[38;5;28mopen\u001B[39m(fine_tuning_file, \u001B[38;5;124m'\u001B[39m\u001B[38;5;124mrb\u001B[39m\u001B[38;5;124m'\u001B[39m),\n\u001B[0;32m     20\u001B[0m     purpose \u001B[38;5;241m=\u001B[39m \u001B[38;5;124m\"\u001B[39m\u001B[38;5;124mfine-tune\u001B[39m\u001B[38;5;124m\"\u001B[39m\n\u001B[0;32m     21\u001B[0m )\n",
      "\u001B[1;31mValueError\u001B[0m: API key not found. Please set OPENAI_API_KEY in your .env file."
     ]
    }
   ],
   "execution_count": 57
  },
  {
   "metadata": {
    "ExecuteTime": {
     "end_time": "2024-12-05T00:25:00.811425Z",
     "start_time": "2024-12-05T00:24:29.313673Z"
    }
   },
   "cell_type": "code",
   "source": [
    "fine_tuning_job = client.fine_tuning.jobs.create(\n",
    "    training_file = file.id,\n",
    "    model=\"gpt-4o-2024-08-06\",\n",
    ")\n",
    "\n",
    "print(fine_tuning_job)\n"
   ],
   "id": "d8716fac3ebab5d8",
   "outputs": [
    {
     "name": "stdout",
     "output_type": "stream",
     "text": [
      "FineTuningJob(id='ftjob-pyTkN0SKCF8UANPWwkEb4r29', created_at=1733358301, error=Error(code=None, message=None, param=None), fine_tuned_model=None, finished_at=None, hyperparameters=Hyperparameters(n_epochs='auto', batch_size='auto', learning_rate_multiplier='auto'), model='gpt-4o-2024-08-06', object='fine_tuning.job', organization_id='org-oyIQPClKOf7kZAZ0IOGnlkDL', result_files=[], seed=1131686429, status='validating_files', trained_tokens=None, training_file='file-5g5CQfb7D6vZ5vnmsnaCtc', validation_file=None, estimated_finish=None, integrations=[], user_provided_suffix=None)\n"
     ]
    }
   ],
   "execution_count": 2
  },
  {
   "metadata": {
    "ExecuteTime": {
     "end_time": "2024-12-05T00:25:31.313813Z",
     "start_time": "2024-12-05T00:25:00.813432Z"
    }
   },
   "cell_type": "code",
   "source": "client.fine_tuning.jobs.list(limit=10)",
   "id": "cfa36bbeb980f719",
   "outputs": [
    {
     "data": {
      "text/plain": [
       "SyncCursorPage[FineTuningJob](data=[FineTuningJob(id='ftjob-pyTkN0SKCF8UANPWwkEb4r29', created_at=1733358301, error=Error(code=None, message=None, param=None), fine_tuned_model=None, finished_at=None, hyperparameters=Hyperparameters(n_epochs=3, batch_size=2, learning_rate_multiplier=2), model='gpt-4o-2024-08-06', object='fine_tuning.job', organization_id='org-oyIQPClKOf7kZAZ0IOGnlkDL', result_files=[], seed=1131686429, status='validating_files', trained_tokens=None, training_file='file-5g5CQfb7D6vZ5vnmsnaCtc', validation_file=None, estimated_finish=None, integrations=[], user_provided_suffix=None), FineTuningJob(id='ftjob-3bN7xAyCOwtksq2uvGxSOdAj', created_at=1733353729, error=Error(code=None, message=None, param=None), fine_tuned_model='ft:gpt-4o-2024-08-06:texas-a-m::Aasy5tgO', finished_at=1733354468, hyperparameters=Hyperparameters(n_epochs=3, batch_size=1, learning_rate_multiplier=2), model='gpt-4o-2024-08-06', object='fine_tuning.job', organization_id='org-oyIQPClKOf7kZAZ0IOGnlkDL', result_files=['file-H3rqjX8YVQ6f2GSiECT6pZ'], seed=1708139004, status='succeeded', trained_tokens=186450, training_file='file-MGYJ3QxX4GCfNfxvnSzdnZ', validation_file=None, estimated_finish=None, integrations=[], user_provided_suffix=None), FineTuningJob(id='ftjob-iPYQxI1ltFkFkRqLEWoUG4JQ', created_at=1733353444, error=Error(code=None, message=None, param=None), fine_tuned_model='ft:gpt-4o-2024-08-06:texas-a-m::Aastm6r9', finished_at=1733354201, hyperparameters=Hyperparameters(n_epochs=3, batch_size=1, learning_rate_multiplier=2), model='gpt-4o-2024-08-06', object='fine_tuning.job', organization_id='org-oyIQPClKOf7kZAZ0IOGnlkDL', result_files=['file-VQFdHdDaBNisQxseuGp6mQ'], seed=502003716, status='succeeded', trained_tokens=186450, training_file='file-CkPw91or8oEMntMaY6yaVd', validation_file=None, estimated_finish=None, integrations=[], user_provided_suffix=None)], object='list', has_more=False)"
      ]
     },
     "execution_count": 3,
     "metadata": {},
     "output_type": "execute_result"
    }
   ],
   "execution_count": 3
  },
  {
   "metadata": {
    "ExecuteTime": {
     "end_time": "2024-12-05T01:15:42.939906Z",
     "start_time": "2024-12-05T01:15:12.372811Z"
    }
   },
   "cell_type": "code",
   "source": [
    "client.fine_tuning.jobs.retrieve(\"ftjob-pyTkN0SKCF8UANPWwkEb4r29\")\n",
    "\n",
    "# client.fine_tuning.jobs.retrieve(\"ftjob-ZgVDlL5wKpulxNhuFSJWbphU\")"
   ],
   "id": "17214058f54fcdaa",
   "outputs": [
    {
     "data": {
      "text/plain": [
       "FineTuningJob(id='ftjob-pyTkN0SKCF8UANPWwkEb4r29', created_at=1733358301, error=Error(code=None, message=None, param=None), fine_tuned_model='ft:gpt-4o-2024-08-06:texas-a-m::AauiLOcH', finished_at=1733361180, hyperparameters=Hyperparameters(n_epochs=3, batch_size=2, learning_rate_multiplier=2), model='gpt-4o-2024-08-06', object='fine_tuning.job', organization_id='org-oyIQPClKOf7kZAZ0IOGnlkDL', result_files=['file-64H4Nt7ESaePe1BKX3sVDb'], seed=1131686429, status='succeeded', trained_tokens=1709187, training_file='file-5g5CQfb7D6vZ5vnmsnaCtc', validation_file=None, estimated_finish=None, integrations=[], user_provided_suffix=None)"
      ]
     },
     "execution_count": 6,
     "metadata": {},
     "output_type": "execute_result"
    }
   ],
   "execution_count": 6
  },
  {
   "metadata": {
    "ExecuteTime": {
     "end_time": "2024-12-05T00:25:31.707592Z",
     "start_time": "2024-12-05T00:25:31.704455Z"
    }
   },
   "cell_type": "code",
   "source": "print(\"key\", os.getenv(\"OPENAI_API_KEY\"))",
   "id": "a80863199cf35e2f",
   "outputs": [
    {
     "name": "stdout",
     "output_type": "stream",
     "text": [
      "key sk-w6Kj-Sg1ie9D1bBc3KkCCNe253TEVFvOWG87_qewCTT3BlbkFJNDqY6AsLGVc3L7XGrFrK-f9TvuOUHC3E4RmEEC3qEA\n"
     ]
    }
   ],
   "execution_count": 5
  },
  {
   "metadata": {
    "ExecuteTime": {
     "end_time": "2024-12-04T23:46:10.137446Z",
     "start_time": "2024-12-04T23:46:07.666179Z"
    }
   },
   "cell_type": "code",
   "source": [
    "import tiktoken\n",
    "import json\n",
    "\n",
    "# 加载训练数据文件\n",
    "fine_tuning_file = \"data/gpt4_fine_tuning_train.jsonl\"\n",
    "\n",
    "# 加载 GPT-4 编码器\n",
    "enc = tiktoken.encoding_for_model(\"gpt-4\")\n",
    "\n",
    "# 计算训练数据的总 token 数\n",
    "total_tokens = 0\n",
    "with open(fine_tuning_file, 'r') as f:\n",
    "    for line in f:\n",
    "        data = json.loads(line)\n",
    "        messages = data[\"messages\"]\n",
    "        for message in messages:\n",
    "            total_tokens += len(enc.encode(message[\"content\"]))\n",
    "\n",
    "print(f\"Total tokens in training data: {total_tokens}\")\n",
    "training_cost_per_1M_tokens = 25.000  # 训练成本 $25.000 / 1M tokens\n",
    "fine_tuning_cost = (186450 / 1_000_000) * training_cost_per_1M_tokens\n",
    "print(f\"Estimated fine-tuning cost: ${fine_tuning_cost:.2f}\")"
   ],
   "id": "45dacf3388fe520d",
   "outputs": [
    {
     "name": "stdout",
     "output_type": "stream",
     "text": [
      "Total tokens in training data: 6292067\n",
      "Estimated fine-tuning cost: $4.66\n"
     ]
    }
   ],
   "execution_count": 11
  },
  {
   "metadata": {
    "ExecuteTime": {
     "end_time": "2024-12-05T09:16:16.355289Z",
     "start_time": "2024-12-05T09:16:15.690684Z"
    }
   },
   "cell_type": "code",
   "source": [
    "\n",
    "import pandas as pd\n",
    "\n",
    "# 加载完整数据集和用于微调的数据\n",
    "full_dataset_file = \"data/train.csv\"  \n",
    "fine_tuned_file = \"data/sample_train_data.csv\"  \n",
    "\n",
    "# 读取数据集\n",
    "full_dataset = pd.read_csv(full_dataset_file)\n",
    "fine_tuned_data = pd.read_csv(fine_tuned_file)\n",
    "\n",
    "# 找到剩余条目\n",
    "remaining_data = full_dataset[~full_dataset.index.isin(fine_tuned_data.index)]\n",
    "\n",
    "# 只保留 vul = 1 的数据\n",
    "vulnerable_data = remaining_data[remaining_data['vul'] == 0]\n",
    "\n",
    "# 保存筛选后的数据\n",
    "rag_file = \"data/RAG_data_non_vul.csv\"\n",
    "vulnerable_data.to_csv(rag_file, index=False)\n",
    "\n",
    "print(f\"Vulnerable data saved to {rag_file}, total {len(vulnerable_data)} rows.\")\n",
    "\n",
    "# 输出一些统计信息\n",
    "print(f\"\\nData Statistics:\")\n",
    "print(f\"Original remaining data: {len(remaining_data)} rows\")\n",
    "print(f\"Vulnerable data (vul=1): {len(vulnerable_data)} rows\")\n",
    "print(f\"Percentage of vulnerable data: {(len(vulnerable_data)/len(remaining_data))*100:.2f}%\")\n"
   ],
   "id": "62b2edd4b5b1a7a2",
   "outputs": [
    {
     "name": "stdout",
     "output_type": "stream",
     "text": [
      "Vulnerable data saved to data/RAG_data_non_vul.csv, total 6340 rows.\n",
      "\n",
      "Data Statistics:\n",
      "Original remaining data: 12698 rows\n",
      "Vulnerable data (vul=1): 6340 rows\n",
      "Percentage of vulnerable data: 49.93%\n"
     ]
    }
   ],
   "execution_count": 36
  },
  {
   "metadata": {
    "ExecuteTime": {
     "end_time": "2024-12-05T09:16:25.721738Z",
     "start_time": "2024-12-05T09:16:25.425722Z"
    }
   },
   "cell_type": "code",
   "source": [
    "import pandas as pd\n",
    "import json\n",
    "\n",
    "# 加载剩余数据集\n",
    "remaining_file = \"data/RAG_data_non_vul.csv\"\n",
    "remaining_data = pd.read_csv(remaining_file)\n",
    "\n",
    "# 初始化字典存储分组结果\n",
    "grouped_data = {}\n",
    "\n",
    "# 按 CWE ID 分组\n",
    "grouped = remaining_data.groupby('CWE ID')\n",
    "\n",
    "for cwe_id, group in grouped:\n",
    "    # 每个 CWE ID 下的条目列表\n",
    "    entries = []\n",
    "    for _, row in group.iterrows():\n",
    "        entries.append({\n",
    "            \"ID\": row.get(\"ID\", None),  # 替换为实际列名\n",
    "            \"vul\": row.get(\"vul\", None),\n",
    "            \"func_before\": row.get(\"func_before\", None),  # 替换为代码列名\n",
    "            \"CWE ID\": cwe_id,\n",
    "            \"description\": row.get(\"commit_message\", None)\n",
    "        })\n",
    "    grouped_data[cwe_id] = entries\n",
    "\n",
    "# 保存为 JSON 文件\n",
    "output_file = \"data/rag_data.json\"\n",
    "with open(output_file, \"w\") as f:\n",
    "    json.dump(grouped_data, f, indent=4)\n",
    "\n",
    "print(f\"Grouped data saved to {output_file}, grouped by CWE IDs.\")"
   ],
   "id": "92613825569ba6f4",
   "outputs": [
    {
     "name": "stdout",
     "output_type": "stream",
     "text": [
      "Grouped data saved to data/rag_data.json, grouped by CWE IDs.\n"
     ]
    }
   ],
   "execution_count": 37
  },
  {
   "metadata": {
    "ExecuteTime": {
     "end_time": "2024-12-05T09:16:41.031310Z",
     "start_time": "2024-12-05T09:16:39.965361Z"
    }
   },
   "cell_type": "code",
   "source": [
    "import tiktoken\n",
    "import json\n",
    "\n",
    "# 加载 JSON 文件\n",
    "json_file = \"data/RAG_data.json\"\n",
    "with open(json_file, \"r\") as f:\n",
    "    rag_data = json.load(f)\n",
    "\n",
    "# 加载 GPT-4 编码器\n",
    "encoder = tiktoken.encoding_for_model(\"gpt-4\")\n",
    "\n",
    "# 计算 token 总数\n",
    "total_tokens = 0\n",
    "\n",
    "for cwe_id, entries in rag_data.items():\n",
    "    for entry in entries:\n",
    "        # 拼接 JSON 条目内容为文本\n",
    "        text = f\"\"\"\n",
    "        ID: {entry.get('ID', '')}\n",
    "        Vul: {entry.get('vul', '')}\n",
    "        Func_Before: {entry.get('func_before', '')}\n",
    "        CWE ID: {entry.get('CWE ID', '')}\n",
    "        Description: {entry.get('description', '')}\n",
    "        \"\"\"\n",
    "        # 编码并统计 token 数\n",
    "        total_tokens += len(encoder.encode(text))\n",
    "\n",
    "print(f\"Total tokens in JSON data: {total_tokens}\")\n"
   ],
   "id": "7b8454edbbc52d2c",
   "outputs": [
    {
     "name": "stdout",
     "output_type": "stream",
     "text": [
      "Total tokens in JSON data: 2791015\n"
     ]
    }
   ],
   "execution_count": 38
  },
  {
   "metadata": {
    "ExecuteTime": {
     "end_time": "2024-12-05T14:34:38.801382Z",
     "start_time": "2024-12-05T14:34:38.756928Z"
    }
   },
   "cell_type": "code",
   "source": [
    "import pandas as pd\n",
    "import numpy as np\n",
    "from sklearn.metrics import confusion_matrix, accuracy_score, precision_score, recall_score, f1_score\n",
    "\n",
    "def calculate_metrics(df):\n",
    "    \"\"\"\n",
    "    计算混淆矩阵和相关评估指标\n",
    "    \n",
    "    参数:\n",
    "    df: 包含true_vul和pred_vul两列的DataFrame\n",
    "    \n",
    "    返回:\n",
    "    confusion_matrix: 混淆矩阵\n",
    "    metrics: 包含准确率、精确率、召回率和F1分数的字典\n",
    "    \"\"\"\n",
    "    # 获取真实值和预测值\n",
    "    y_true = df['true_vul']\n",
    "    y_pred = df['pred_vul']\n",
    "    \n",
    "    # 计算混淆矩阵\n",
    "    cm = confusion_matrix(y_true, y_pred)\n",
    "    \n",
    "    # 计算各项指标\n",
    "    metrics = {\n",
    "        'accuracy': accuracy_score(y_true, y_pred),\n",
    "        'precision': precision_score(y_true, y_pred),\n",
    "        'recall': recall_score(y_true, y_pred),\n",
    "        'f1': f1_score(y_true, y_pred)\n",
    "    }\n",
    "    \n",
    "    return cm, metrics\n",
    "\n",
    "# 创建示例数据\n",
    "\n",
    "df3 = pd.read_csv('validation_results_3_contexts.csv')\n",
    "\n",
    "df5 = pd.read_csv('validation_results_5_contexts3.csv')\n",
    "\n",
    "df10 = pd.read_csv('validation_results_10_contexts.csv')\n",
    "\n",
    "tf = pd.read_csv('test_results_5_contexts3_3.csv')\n",
    "# 计算混淆矩阵和指标\n",
    "conf_matrix, metrics = calculate_metrics(tf)\n",
    "\n",
    "\n",
    "# 打印结果\n",
    "print(\"混淆矩阵:\")\n",
    "print(conf_matrix)\n",
    "print(\"\\n评估指标:\")\n",
    "for metric, value in metrics.items():\n",
    "    print(f\"{metric}: {value:.3f}\")"
   ],
   "id": "6e15842b10041c93",
   "outputs": [
    {
     "name": "stdout",
     "output_type": "stream",
     "text": [
      "混淆矩阵:\n",
      "[[632  68]\n",
      " [ 10 690]]\n",
      "\n",
      "评估指标:\n",
      "accuracy: 0.944\n",
      "precision: 0.910\n",
      "recall: 0.986\n",
      "f1: 0.947\n"
     ]
    }
   ],
   "execution_count": 58
  },
  {
   "metadata": {
    "ExecuteTime": {
     "end_time": "2024-12-05T09:19:34.167308Z",
     "start_time": "2024-12-05T09:19:34.062239Z"
    }
   },
   "cell_type": "code",
   "source": [
    "rag = pd.read_csv('data/RAG_data_non_vul.csv')\n",
    "\n",
    "rag.head(20)"
   ],
   "id": "36bc01523ced138c",
   "outputs": [
    {
     "data": {
      "text/plain": [
       "            CVE ID                                        CVE Page   CWE ID  \\\n",
       "0    CVE-2014-0182   https://www.cvedetails.com/cve/CVE-2014-0182/  CWE-119   \n",
       "1   CVE-2017-14604  https://www.cvedetails.com/cve/CVE-2017-14604/   CWE-20   \n",
       "2   CVE-2018-12247  https://www.cvedetails.com/cve/CVE-2018-12247/  CWE-476   \n",
       "3    CVE-2013-2921   https://www.cvedetails.com/cve/CVE-2013-2921/  CWE-399   \n",
       "4   CVE-2019-12904  https://www.cvedetails.com/cve/CVE-2019-12904/  CWE-310   \n",
       "5   CVE-2017-12187  https://www.cvedetails.com/cve/CVE-2017-12187/   CWE-20   \n",
       "6    CVE-2016-7944   https://www.cvedetails.com/cve/CVE-2016-7944/  CWE-190   \n",
       "7    CVE-2013-2856   https://www.cvedetails.com/cve/CVE-2013-2856/  CWE-416   \n",
       "8    CVE-2017-5039   https://www.cvedetails.com/cve/CVE-2017-5039/  CWE-416   \n",
       "9    CVE-2015-5307   https://www.cvedetails.com/cve/CVE-2015-5307/  CWE-399   \n",
       "10   CVE-2014-4345   https://www.cvedetails.com/cve/CVE-2014-4345/  CWE-189   \n",
       "11   CVE-2014-1715   https://www.cvedetails.com/cve/CVE-2014-1715/   CWE-22   \n",
       "12   CVE-2011-4112   https://www.cvedetails.com/cve/CVE-2011-4112/  CWE-264   \n",
       "13  CVE-2018-18386  https://www.cvedetails.com/cve/CVE-2018-18386/  CWE-704   \n",
       "14   CVE-2012-3552   https://www.cvedetails.com/cve/CVE-2012-3552/  CWE-362   \n",
       "15   CVE-2016-4301   https://www.cvedetails.com/cve/CVE-2016-4301/  CWE-119   \n",
       "16   CVE-2011-2486   https://www.cvedetails.com/cve/CVE-2011-2486/  CWE-264   \n",
       "17  CVE-2016-10197  https://www.cvedetails.com/cve/CVE-2016-10197/  CWE-125   \n",
       "18   CVE-2012-6548   https://www.cvedetails.com/cve/CVE-2012-6548/  CWE-200   \n",
       "19   CVE-2011-1428   https://www.cvedetails.com/cve/CVE-2011-1428/   CWE-20   \n",
       "\n",
       "                                             codeLink  \\\n",
       "0   https://git.qemu.org/?p=qemu.git;a=commitdiff;...   \n",
       "1   https://github.com/GNOME/nautilus/commit/1630f...   \n",
       "2   https://github.com/mruby/mruby/commit/55edae02...   \n",
       "3   https://github.com/chromium/chromium/commit/12...   \n",
       "4   https://github.com/gpg/libgcrypt/commit/daedbb...   \n",
       "5   https://cgit.freedesktop.org/xorg/xserver/comm...   \n",
       "6   https://cgit.freedesktop.org/xorg/lib/libXfixe...   \n",
       "7   https://github.com/chromium/chromium/commit/e6...   \n",
       "8   https://github.com/chromium/chromium/commit/69...   \n",
       "9   https://github.com/torvalds/linux/commit/54a20...   \n",
       "10  https://github.com/krb5/krb5/commit/dc7ed55c68...   \n",
       "11  https://github.com/chromium/chromium/commit/ce...   \n",
       "12  https://github.com/torvalds/linux/commit/550fd...   \n",
       "13  https://github.com/torvalds/linux/commit/96603...   \n",
       "14  https://github.com/torvalds/linux/commit/f6d8b...   \n",
       "15  https://github.com/libarchive/libarchive/commi...   \n",
       "16  https://github.com/davidben/nspluginwrapper/co...   \n",
       "17  https://github.com/libevent/libevent/commit/ec...   \n",
       "18  https://github.com/torvalds/linux/commit/0143f...   \n",
       "19  https://git.savannah.gnu.org/gitweb/?p=weechat...   \n",
       "\n",
       "                                   commit_id  \\\n",
       "0   a890a2f9137ac3cf5b607649e66a6f3a5512d8dc   \n",
       "1   1630f53481f445ada0a455e9979236d31a8d3bb0   \n",
       "2   55edae0226409de25e59922807cb09acb45731a2   \n",
       "3   1228817ab04a14df53b5a8446085f9c03bf6e964   \n",
       "4   daedbbb5541cd8ecda1459d3b843ea4d92788762   \n",
       "5   cad5a1050b7184d828aef9c1dd151c3ab649d37e   \n",
       "6   61c1039ee23a2d1de712843bed3480654d7ef42e   \n",
       "7   e68fafe04d29810cebe8d25554863b0cae4c1356   \n",
       "8   69b4b9ef7455753b12c3efe4eec71647e6fb1da1   \n",
       "9   54a20552e1eae07aa240fa370a0293e006b5faed   \n",
       "10  dc7ed55c689d57de7f7408b34631bf06fec9dab1   \n",
       "11  ce70785c73a2b7cf2b34de0d8439ca31929b4743   \n",
       "12  550fd08c2cebad61c548def135f67aba284c6162   \n",
       "13  966031f340185eddd05affcf72b740549f056348   \n",
       "14  f6d8bd051c391c1c0458a30b2a7abcd939329259   \n",
       "15  a550daeecf6bc689ade371349892ea17b5b97c77   \n",
       "16  7e4ab8e1189846041f955e6c83f72bc1624e7a98   \n",
       "17  ec65c42052d95d2c23d1d837136d1cf1d9ecef9e   \n",
       "18  0143fc5e9f6f5aad4764801015bc8d4b4a278200   \n",
       "19  c265cad1c95b84abfd4e8d861f25926ef13b5d91   \n",
       "\n",
       "                                       commit_message  \\\n",
       "0                                                 NaN   \n",
       "1   mime-actions: use file metadata for trusting d...   \n",
       "2   Allow `Object#clone` to copy frozen status onl...   \n",
       "3   repairs CopyFromCompositingSurface in HighDPI\\...   \n",
       "4   AES: move look-up tables to .data section and ...   \n",
       "5                                                 NaN   \n",
       "6                                                 NaN   \n",
       "7   Map posix error codes in bind better, and fix ...   \n",
       "8   Disable all DRP URL fetches when holdback is e...   \n",
       "9   KVM: x86: work around infinite loop in microco...   \n",
       "10  Fix LDAP key data segmentation [CVE-2014-4345]...   \n",
       "11  Consistently check if a block can handle pagin...   \n",
       "12  net: Audit drivers to identify those needing I...   \n",
       "13  n_tty: fix EXTPROC vs ICANON interaction with ...   \n",
       "14  inet: add RCU protection to inet->opt\\n\\nWe la...   \n",
       "15  Fix libarchive/archive_read_support_format_mtr...   \n",
       "16                Support all the new variables added   \n",
       "17  evdns: fix searching empty hostnames\\n\\nFrom #...   \n",
       "18  udf: avoid info leak on export\\n\\nFor type 0x5...   \n",
       "19                                                NaN   \n",
       "\n",
       "                                           func_after  \\\n",
       "0   static inline uint16_t vring_avail_flags(VirtQ...   \n",
       "1   link_info_stop (NautilusDirectory *directory)\\...   \n",
       "2   mrb_obj_frozen(mrb_state *mrb, mrb_value self)...   \n",
       "3   void DelegatedFrameHost::OnCompositingAborted(...   \n",
       "4   do_decrypt_fn (const RIJNDAEL_context *ctx, un...   \n",
       "5   PanoramiXRenderTriFan(ClientPtr client)\\n{\\n  ...   \n",
       "6   XFixesSetGCClipRegion (Display *dpy, GC gc,\\n\\...   \n",
       "7                        virtual ~ReadDelegate() {}\\n   \n",
       "8     std::string GetAndReset() {\\n    base::AutoL...   \n",
       "9   static int handle_interrupt_window(struct kvm_...   \n",
       "10  krb5_read_tkt_policy(krb5_context context, krb...   \n",
       "11  LayoutUnit LayoutBlockFlow::collapseMargins(La...   \n",
       "12  static void l2tp_eth_dev_recv(struct l2tp_sess...   \n",
       "13  static void n_tty_receive_overrun(struct tty_s...   \n",
       "14  static int inet_create(struct net *net, struct...   \n",
       "15  read_mtree(struct archive_read *a, struct mtre...   \n",
       "16  static int handle_NPP_HandleEvent(rpc_connecti...   \n",
       "17  reply_handle(struct request *const req, u16 fl...   \n",
       "18  static struct fileIdentDesc *udf_add_entry(str...   \n",
       "19  irc_server_msgq_add_buffer (struct t_irc_serve...   \n",
       "\n",
       "                                          func_before lang          project  \\\n",
       "0   static inline uint16_t vring_avail_flags(VirtQ...    C             qemu   \n",
       "1   link_info_stop (NautilusDirectory *directory)\\...    C         nautilus   \n",
       "2   mrb_obj_frozen(mrb_state *mrb, mrb_value self)...    C            mruby   \n",
       "3   void DelegatedFrameHost::OnCompositingAborted(...    C           Chrome   \n",
       "4   do_decrypt_fn (const RIJNDAEL_context *ctx, un...    C        libgcrypt   \n",
       "5   PanoramiXRenderTriFan(ClientPtr client)\\n{\\n  ...    C          xserver   \n",
       "6   XFixesSetGCClipRegion (Display *dpy, GC gc,\\n\\...    C        libXfixes   \n",
       "7                        virtual ~ReadDelegate() {}\\n    C           Chrome   \n",
       "8     std::string GetAndReset() {\\n    base::AutoL...    C           Chrome   \n",
       "9   static int handle_interrupt_window(struct kvm_...    C            linux   \n",
       "10  krb5_read_tkt_policy(krb5_context context, krb...    C             krb5   \n",
       "11  LayoutUnit LayoutBlockFlow::collapseMargins(La...    C           Chrome   \n",
       "12  static void l2tp_eth_dev_recv(struct l2tp_sess...    C            linux   \n",
       "13  static void n_tty_receive_overrun(struct tty_s...    C            linux   \n",
       "14  static int inet_create(struct net *net, struct...    C            linux   \n",
       "15  read_mtree(struct archive_read *a, struct mtre...    C       libarchive   \n",
       "16  static int handle_NPP_HandleEvent(rpc_connecti...    C  nspluginwrapper   \n",
       "17  reply_handle(struct request *const req, u16 fl...    C         libevent   \n",
       "18  static struct fileIdentDesc *udf_add_entry(str...    C            linux   \n",
       "19  irc_server_msgq_add_buffer (struct t_irc_serve...    C         savannah   \n",
       "\n",
       "    vul  \n",
       "0     0  \n",
       "1     0  \n",
       "2     0  \n",
       "3     0  \n",
       "4     0  \n",
       "5     0  \n",
       "6     0  \n",
       "7     0  \n",
       "8     0  \n",
       "9     0  \n",
       "10    0  \n",
       "11    0  \n",
       "12    0  \n",
       "13    0  \n",
       "14    0  \n",
       "15    0  \n",
       "16    0  \n",
       "17    0  \n",
       "18    0  \n",
       "19    0  "
      ],
      "text/html": [
       "<div>\n",
       "<style scoped>\n",
       "    .dataframe tbody tr th:only-of-type {\n",
       "        vertical-align: middle;\n",
       "    }\n",
       "\n",
       "    .dataframe tbody tr th {\n",
       "        vertical-align: top;\n",
       "    }\n",
       "\n",
       "    .dataframe thead th {\n",
       "        text-align: right;\n",
       "    }\n",
       "</style>\n",
       "<table border=\"1\" class=\"dataframe\">\n",
       "  <thead>\n",
       "    <tr style=\"text-align: right;\">\n",
       "      <th></th>\n",
       "      <th>CVE ID</th>\n",
       "      <th>CVE Page</th>\n",
       "      <th>CWE ID</th>\n",
       "      <th>codeLink</th>\n",
       "      <th>commit_id</th>\n",
       "      <th>commit_message</th>\n",
       "      <th>func_after</th>\n",
       "      <th>func_before</th>\n",
       "      <th>lang</th>\n",
       "      <th>project</th>\n",
       "      <th>vul</th>\n",
       "    </tr>\n",
       "  </thead>\n",
       "  <tbody>\n",
       "    <tr>\n",
       "      <th>0</th>\n",
       "      <td>CVE-2014-0182</td>\n",
       "      <td>https://www.cvedetails.com/cve/CVE-2014-0182/</td>\n",
       "      <td>CWE-119</td>\n",
       "      <td>https://git.qemu.org/?p=qemu.git;a=commitdiff;...</td>\n",
       "      <td>a890a2f9137ac3cf5b607649e66a6f3a5512d8dc</td>\n",
       "      <td>NaN</td>\n",
       "      <td>static inline uint16_t vring_avail_flags(VirtQ...</td>\n",
       "      <td>static inline uint16_t vring_avail_flags(VirtQ...</td>\n",
       "      <td>C</td>\n",
       "      <td>qemu</td>\n",
       "      <td>0</td>\n",
       "    </tr>\n",
       "    <tr>\n",
       "      <th>1</th>\n",
       "      <td>CVE-2017-14604</td>\n",
       "      <td>https://www.cvedetails.com/cve/CVE-2017-14604/</td>\n",
       "      <td>CWE-20</td>\n",
       "      <td>https://github.com/GNOME/nautilus/commit/1630f...</td>\n",
       "      <td>1630f53481f445ada0a455e9979236d31a8d3bb0</td>\n",
       "      <td>mime-actions: use file metadata for trusting d...</td>\n",
       "      <td>link_info_stop (NautilusDirectory *directory)\\...</td>\n",
       "      <td>link_info_stop (NautilusDirectory *directory)\\...</td>\n",
       "      <td>C</td>\n",
       "      <td>nautilus</td>\n",
       "      <td>0</td>\n",
       "    </tr>\n",
       "    <tr>\n",
       "      <th>2</th>\n",
       "      <td>CVE-2018-12247</td>\n",
       "      <td>https://www.cvedetails.com/cve/CVE-2018-12247/</td>\n",
       "      <td>CWE-476</td>\n",
       "      <td>https://github.com/mruby/mruby/commit/55edae02...</td>\n",
       "      <td>55edae0226409de25e59922807cb09acb45731a2</td>\n",
       "      <td>Allow `Object#clone` to copy frozen status onl...</td>\n",
       "      <td>mrb_obj_frozen(mrb_state *mrb, mrb_value self)...</td>\n",
       "      <td>mrb_obj_frozen(mrb_state *mrb, mrb_value self)...</td>\n",
       "      <td>C</td>\n",
       "      <td>mruby</td>\n",
       "      <td>0</td>\n",
       "    </tr>\n",
       "    <tr>\n",
       "      <th>3</th>\n",
       "      <td>CVE-2013-2921</td>\n",
       "      <td>https://www.cvedetails.com/cve/CVE-2013-2921/</td>\n",
       "      <td>CWE-399</td>\n",
       "      <td>https://github.com/chromium/chromium/commit/12...</td>\n",
       "      <td>1228817ab04a14df53b5a8446085f9c03bf6e964</td>\n",
       "      <td>repairs CopyFromCompositingSurface in HighDPI\\...</td>\n",
       "      <td>void DelegatedFrameHost::OnCompositingAborted(...</td>\n",
       "      <td>void DelegatedFrameHost::OnCompositingAborted(...</td>\n",
       "      <td>C</td>\n",
       "      <td>Chrome</td>\n",
       "      <td>0</td>\n",
       "    </tr>\n",
       "    <tr>\n",
       "      <th>4</th>\n",
       "      <td>CVE-2019-12904</td>\n",
       "      <td>https://www.cvedetails.com/cve/CVE-2019-12904/</td>\n",
       "      <td>CWE-310</td>\n",
       "      <td>https://github.com/gpg/libgcrypt/commit/daedbb...</td>\n",
       "      <td>daedbbb5541cd8ecda1459d3b843ea4d92788762</td>\n",
       "      <td>AES: move look-up tables to .data section and ...</td>\n",
       "      <td>do_decrypt_fn (const RIJNDAEL_context *ctx, un...</td>\n",
       "      <td>do_decrypt_fn (const RIJNDAEL_context *ctx, un...</td>\n",
       "      <td>C</td>\n",
       "      <td>libgcrypt</td>\n",
       "      <td>0</td>\n",
       "    </tr>\n",
       "    <tr>\n",
       "      <th>5</th>\n",
       "      <td>CVE-2017-12187</td>\n",
       "      <td>https://www.cvedetails.com/cve/CVE-2017-12187/</td>\n",
       "      <td>CWE-20</td>\n",
       "      <td>https://cgit.freedesktop.org/xorg/xserver/comm...</td>\n",
       "      <td>cad5a1050b7184d828aef9c1dd151c3ab649d37e</td>\n",
       "      <td>NaN</td>\n",
       "      <td>PanoramiXRenderTriFan(ClientPtr client)\\n{\\n  ...</td>\n",
       "      <td>PanoramiXRenderTriFan(ClientPtr client)\\n{\\n  ...</td>\n",
       "      <td>C</td>\n",
       "      <td>xserver</td>\n",
       "      <td>0</td>\n",
       "    </tr>\n",
       "    <tr>\n",
       "      <th>6</th>\n",
       "      <td>CVE-2016-7944</td>\n",
       "      <td>https://www.cvedetails.com/cve/CVE-2016-7944/</td>\n",
       "      <td>CWE-190</td>\n",
       "      <td>https://cgit.freedesktop.org/xorg/lib/libXfixe...</td>\n",
       "      <td>61c1039ee23a2d1de712843bed3480654d7ef42e</td>\n",
       "      <td>NaN</td>\n",
       "      <td>XFixesSetGCClipRegion (Display *dpy, GC gc,\\n\\...</td>\n",
       "      <td>XFixesSetGCClipRegion (Display *dpy, GC gc,\\n\\...</td>\n",
       "      <td>C</td>\n",
       "      <td>libXfixes</td>\n",
       "      <td>0</td>\n",
       "    </tr>\n",
       "    <tr>\n",
       "      <th>7</th>\n",
       "      <td>CVE-2013-2856</td>\n",
       "      <td>https://www.cvedetails.com/cve/CVE-2013-2856/</td>\n",
       "      <td>CWE-416</td>\n",
       "      <td>https://github.com/chromium/chromium/commit/e6...</td>\n",
       "      <td>e68fafe04d29810cebe8d25554863b0cae4c1356</td>\n",
       "      <td>Map posix error codes in bind better, and fix ...</td>\n",
       "      <td>virtual ~ReadDelegate() {}\\n</td>\n",
       "      <td>virtual ~ReadDelegate() {}\\n</td>\n",
       "      <td>C</td>\n",
       "      <td>Chrome</td>\n",
       "      <td>0</td>\n",
       "    </tr>\n",
       "    <tr>\n",
       "      <th>8</th>\n",
       "      <td>CVE-2017-5039</td>\n",
       "      <td>https://www.cvedetails.com/cve/CVE-2017-5039/</td>\n",
       "      <td>CWE-416</td>\n",
       "      <td>https://github.com/chromium/chromium/commit/69...</td>\n",
       "      <td>69b4b9ef7455753b12c3efe4eec71647e6fb1da1</td>\n",
       "      <td>Disable all DRP URL fetches when holdback is e...</td>\n",
       "      <td>std::string GetAndReset() {\\n    base::AutoL...</td>\n",
       "      <td>std::string GetAndReset() {\\n    base::AutoL...</td>\n",
       "      <td>C</td>\n",
       "      <td>Chrome</td>\n",
       "      <td>0</td>\n",
       "    </tr>\n",
       "    <tr>\n",
       "      <th>9</th>\n",
       "      <td>CVE-2015-5307</td>\n",
       "      <td>https://www.cvedetails.com/cve/CVE-2015-5307/</td>\n",
       "      <td>CWE-399</td>\n",
       "      <td>https://github.com/torvalds/linux/commit/54a20...</td>\n",
       "      <td>54a20552e1eae07aa240fa370a0293e006b5faed</td>\n",
       "      <td>KVM: x86: work around infinite loop in microco...</td>\n",
       "      <td>static int handle_interrupt_window(struct kvm_...</td>\n",
       "      <td>static int handle_interrupt_window(struct kvm_...</td>\n",
       "      <td>C</td>\n",
       "      <td>linux</td>\n",
       "      <td>0</td>\n",
       "    </tr>\n",
       "    <tr>\n",
       "      <th>10</th>\n",
       "      <td>CVE-2014-4345</td>\n",
       "      <td>https://www.cvedetails.com/cve/CVE-2014-4345/</td>\n",
       "      <td>CWE-189</td>\n",
       "      <td>https://github.com/krb5/krb5/commit/dc7ed55c68...</td>\n",
       "      <td>dc7ed55c689d57de7f7408b34631bf06fec9dab1</td>\n",
       "      <td>Fix LDAP key data segmentation [CVE-2014-4345]...</td>\n",
       "      <td>krb5_read_tkt_policy(krb5_context context, krb...</td>\n",
       "      <td>krb5_read_tkt_policy(krb5_context context, krb...</td>\n",
       "      <td>C</td>\n",
       "      <td>krb5</td>\n",
       "      <td>0</td>\n",
       "    </tr>\n",
       "    <tr>\n",
       "      <th>11</th>\n",
       "      <td>CVE-2014-1715</td>\n",
       "      <td>https://www.cvedetails.com/cve/CVE-2014-1715/</td>\n",
       "      <td>CWE-22</td>\n",
       "      <td>https://github.com/chromium/chromium/commit/ce...</td>\n",
       "      <td>ce70785c73a2b7cf2b34de0d8439ca31929b4743</td>\n",
       "      <td>Consistently check if a block can handle pagin...</td>\n",
       "      <td>LayoutUnit LayoutBlockFlow::collapseMargins(La...</td>\n",
       "      <td>LayoutUnit LayoutBlockFlow::collapseMargins(La...</td>\n",
       "      <td>C</td>\n",
       "      <td>Chrome</td>\n",
       "      <td>0</td>\n",
       "    </tr>\n",
       "    <tr>\n",
       "      <th>12</th>\n",
       "      <td>CVE-2011-4112</td>\n",
       "      <td>https://www.cvedetails.com/cve/CVE-2011-4112/</td>\n",
       "      <td>CWE-264</td>\n",
       "      <td>https://github.com/torvalds/linux/commit/550fd...</td>\n",
       "      <td>550fd08c2cebad61c548def135f67aba284c6162</td>\n",
       "      <td>net: Audit drivers to identify those needing I...</td>\n",
       "      <td>static void l2tp_eth_dev_recv(struct l2tp_sess...</td>\n",
       "      <td>static void l2tp_eth_dev_recv(struct l2tp_sess...</td>\n",
       "      <td>C</td>\n",
       "      <td>linux</td>\n",
       "      <td>0</td>\n",
       "    </tr>\n",
       "    <tr>\n",
       "      <th>13</th>\n",
       "      <td>CVE-2018-18386</td>\n",
       "      <td>https://www.cvedetails.com/cve/CVE-2018-18386/</td>\n",
       "      <td>CWE-704</td>\n",
       "      <td>https://github.com/torvalds/linux/commit/96603...</td>\n",
       "      <td>966031f340185eddd05affcf72b740549f056348</td>\n",
       "      <td>n_tty: fix EXTPROC vs ICANON interaction with ...</td>\n",
       "      <td>static void n_tty_receive_overrun(struct tty_s...</td>\n",
       "      <td>static void n_tty_receive_overrun(struct tty_s...</td>\n",
       "      <td>C</td>\n",
       "      <td>linux</td>\n",
       "      <td>0</td>\n",
       "    </tr>\n",
       "    <tr>\n",
       "      <th>14</th>\n",
       "      <td>CVE-2012-3552</td>\n",
       "      <td>https://www.cvedetails.com/cve/CVE-2012-3552/</td>\n",
       "      <td>CWE-362</td>\n",
       "      <td>https://github.com/torvalds/linux/commit/f6d8b...</td>\n",
       "      <td>f6d8bd051c391c1c0458a30b2a7abcd939329259</td>\n",
       "      <td>inet: add RCU protection to inet-&gt;opt\\n\\nWe la...</td>\n",
       "      <td>static int inet_create(struct net *net, struct...</td>\n",
       "      <td>static int inet_create(struct net *net, struct...</td>\n",
       "      <td>C</td>\n",
       "      <td>linux</td>\n",
       "      <td>0</td>\n",
       "    </tr>\n",
       "    <tr>\n",
       "      <th>15</th>\n",
       "      <td>CVE-2016-4301</td>\n",
       "      <td>https://www.cvedetails.com/cve/CVE-2016-4301/</td>\n",
       "      <td>CWE-119</td>\n",
       "      <td>https://github.com/libarchive/libarchive/commi...</td>\n",
       "      <td>a550daeecf6bc689ade371349892ea17b5b97c77</td>\n",
       "      <td>Fix libarchive/archive_read_support_format_mtr...</td>\n",
       "      <td>read_mtree(struct archive_read *a, struct mtre...</td>\n",
       "      <td>read_mtree(struct archive_read *a, struct mtre...</td>\n",
       "      <td>C</td>\n",
       "      <td>libarchive</td>\n",
       "      <td>0</td>\n",
       "    </tr>\n",
       "    <tr>\n",
       "      <th>16</th>\n",
       "      <td>CVE-2011-2486</td>\n",
       "      <td>https://www.cvedetails.com/cve/CVE-2011-2486/</td>\n",
       "      <td>CWE-264</td>\n",
       "      <td>https://github.com/davidben/nspluginwrapper/co...</td>\n",
       "      <td>7e4ab8e1189846041f955e6c83f72bc1624e7a98</td>\n",
       "      <td>Support all the new variables added</td>\n",
       "      <td>static int handle_NPP_HandleEvent(rpc_connecti...</td>\n",
       "      <td>static int handle_NPP_HandleEvent(rpc_connecti...</td>\n",
       "      <td>C</td>\n",
       "      <td>nspluginwrapper</td>\n",
       "      <td>0</td>\n",
       "    </tr>\n",
       "    <tr>\n",
       "      <th>17</th>\n",
       "      <td>CVE-2016-10197</td>\n",
       "      <td>https://www.cvedetails.com/cve/CVE-2016-10197/</td>\n",
       "      <td>CWE-125</td>\n",
       "      <td>https://github.com/libevent/libevent/commit/ec...</td>\n",
       "      <td>ec65c42052d95d2c23d1d837136d1cf1d9ecef9e</td>\n",
       "      <td>evdns: fix searching empty hostnames\\n\\nFrom #...</td>\n",
       "      <td>reply_handle(struct request *const req, u16 fl...</td>\n",
       "      <td>reply_handle(struct request *const req, u16 fl...</td>\n",
       "      <td>C</td>\n",
       "      <td>libevent</td>\n",
       "      <td>0</td>\n",
       "    </tr>\n",
       "    <tr>\n",
       "      <th>18</th>\n",
       "      <td>CVE-2012-6548</td>\n",
       "      <td>https://www.cvedetails.com/cve/CVE-2012-6548/</td>\n",
       "      <td>CWE-200</td>\n",
       "      <td>https://github.com/torvalds/linux/commit/0143f...</td>\n",
       "      <td>0143fc5e9f6f5aad4764801015bc8d4b4a278200</td>\n",
       "      <td>udf: avoid info leak on export\\n\\nFor type 0x5...</td>\n",
       "      <td>static struct fileIdentDesc *udf_add_entry(str...</td>\n",
       "      <td>static struct fileIdentDesc *udf_add_entry(str...</td>\n",
       "      <td>C</td>\n",
       "      <td>linux</td>\n",
       "      <td>0</td>\n",
       "    </tr>\n",
       "    <tr>\n",
       "      <th>19</th>\n",
       "      <td>CVE-2011-1428</td>\n",
       "      <td>https://www.cvedetails.com/cve/CVE-2011-1428/</td>\n",
       "      <td>CWE-20</td>\n",
       "      <td>https://git.savannah.gnu.org/gitweb/?p=weechat...</td>\n",
       "      <td>c265cad1c95b84abfd4e8d861f25926ef13b5d91</td>\n",
       "      <td>NaN</td>\n",
       "      <td>irc_server_msgq_add_buffer (struct t_irc_serve...</td>\n",
       "      <td>irc_server_msgq_add_buffer (struct t_irc_serve...</td>\n",
       "      <td>C</td>\n",
       "      <td>savannah</td>\n",
       "      <td>0</td>\n",
       "    </tr>\n",
       "  </tbody>\n",
       "</table>\n",
       "</div>"
      ]
     },
     "execution_count": 40,
     "metadata": {},
     "output_type": "execute_result"
    }
   ],
   "execution_count": 40
  }
 ],
 "metadata": {
  "kernelspec": {
   "display_name": "Python 3",
   "language": "python",
   "name": "python3"
  },
  "language_info": {
   "codemirror_mode": {
    "name": "ipython",
    "version": 2
   },
   "file_extension": ".py",
   "mimetype": "text/x-python",
   "name": "python",
   "nbconvert_exporter": "python",
   "pygments_lexer": "ipython2",
   "version": "2.7.6"
  }
 },
 "nbformat": 4,
 "nbformat_minor": 5
}
